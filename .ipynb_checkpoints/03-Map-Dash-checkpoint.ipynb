{
 "cells": [
  {
   "cell_type": "markdown",
   "metadata": {},
   "source": [
    "# Exploring the FORCE 2020 Well Log Challenge - Part 3\n",
    "## Interactive Map Dashboard\n",
    "\n",
    "**Brendon Hall, Enthought**\n",
    "\n",
    "bhall@enthought.com\n",
    "\n",
    "In this notebook tutotorial, we'll build on the map view of the wells we made in [Part 2](https://github.com/brendonhall/FORCE-2020-Lithology/blob/master/notebooks/02-Map-View.ipynb) and create an interactive dashboard using [Plotly's Dash framework](https://dash.plotly.com/).\n",
    "\n",
    "The really interesting part of this challenge is the fact that not all of the wells in the dataset have the same set of curves.  They all have gamma ray (GR), but otherwise each well has a subset of all possible curves.  When building models, it might be useful to be able to use subsets of the data that have the curves we want to train specific models.  Here, we'll build a tool that let's us select groups of wells based on which curves they contain, and also using the UI selection tools provided by Plotly. The tool will display the selected wells names in a list so they can be easily copy/pasted. This is a screenshot of the web app we'll build in this tutorial:\n",
    "\n",
    "![map of wells](images/dash_example.png)\n",
    "\n",
    "Please get in touch if you have any questions.  You can also join in the conversation on [Software Underground's slack](https://softwareunderground.org/slack) in the **#force_2020_ml_contest** channel.\n",
    "\n",
    "Feel free to use this code, hack it, adapt it for your own needs.\n",
    "\n",
    "The well log data is licensed as [Norwegian License for Open Government Data (NLOD) 2.0](https://data.norge.no/nlod/en/2.0/).\n",
    "The well log labels that are included are provided by FORCE 2020 Machine Learning Contest under [CC-BY-4.0](https://creativecommons.org/licenses/by/4.0/)."
   ]
  },
  {
   "cell_type": "code",
   "execution_count": 1,
   "metadata": {},
   "outputs": [],
   "source": [
    "import os.path\n",
    "\n",
    "import numpy as np\n",
    "import pandas as pd\n",
    "\n",
    "import plotly.express as px\n",
    "\n",
    "from jupyter_dash import JupyterDash\n",
    "import dash_core_components as dcc\n",
    "import dash_html_components as html\n",
    "from dash.dependencies import Input, Output\n",
    "\n",
    "pd.options.display.max_rows = 8"
   ]
  },
  {
   "cell_type": "markdown",
   "metadata": {},
   "source": [
    "In the previous notebook, we grabbed well metadata from the [NPD Factpages summary page](https://factpages.npd.no/en/wellbore/tableview/exploration/all), and used that to find locations of the the wells in our dataset.  Run that notebook if you haven't already to generate the metadata file, which we load here."
   ]
  },
  {
   "cell_type": "code",
   "execution_count": 2,
   "metadata": {},
   "outputs": [],
   "source": [
    "locations_df = pd.read_csv('../data/force_2020_meta.csv')"
   ]
  },
  {
   "cell_type": "markdown",
   "metadata": {},
   "source": [
    "By now you should have local copies of the training and test datasets (see [previous notebook](https://github.com/brendonhall/FORCE-2020-Lithology/blob/master/notebooks/02-Map-View.ipynb) or the [contest website](https://xeek.ai/challenges/force-well-logs/data) if you need them).  \n",
    "\n",
    "Here we load local copies, and combine them into a single dataframe."
   ]
  },
  {
   "cell_type": "code",
   "execution_count": 3,
   "metadata": {},
   "outputs": [],
   "source": [
    "# need to add to this, boolean values for whether a well has a value for each of the curves\n",
    "local_train_csv = 'train.csv'\n",
    "train_df = pd.read_csv(local_train_csv, sep=';')\n",
    "\n",
    "local_test_csv = 'test.csv'\n",
    "test_df = pd.read_csv(local_test_csv, sep=';')\n",
    "\n",
    "well_data_df = pd.concat([train_df, test_df])"
   ]
  },
  {
   "cell_type": "markdown",
   "metadata": {},
   "source": [
    "The dashboard we're building will allow us to filter the set of wells by the curves they contain.  We'll need a quick way to tell if a given well has a valid curve in the data.  We can use the `locations_df` to track this, with a column for each curve type and a boolean value that indicates if the log curve is present.  Here we define a list of valid `curves`, and then apply a function `well_had_curve` that checks if all values of the curve for a specific well are `nan`.  It does this for each well and every curve.  This takes a minute or so to run on my machine.  Perhaps you can think of a more efficient method?"
   ]
  },
  {
   "cell_type": "code",
   "execution_count": null,
   "metadata": {},
   "outputs": [],
   "source": [
    "curves = ['FORMATION', 'CALI', 'RSHA', 'RMED', 'RDEP', 'RHOB', 'GR', 'SGR',\n",
    "          'NPHI', 'PEF', 'DTC', 'SP', 'BS', 'ROP', 'DTS', 'DCAL', 'DRHO',\n",
    "          'MUDWEIGHT', 'RMIC', 'ROPA', 'RXO']\n",
    "\n",
    "def well_has_curve(row, data_df, curve):\n",
    "    well_name = row['WELL']\n",
    "    return not data_df.loc[data_df['WELL']==well_name, curve].isnull().all()\n",
    "    \n",
    "for curve in curves:\n",
    "    locations_df[curve] = locations_df.apply(lambda row: well_has_curve(row, well_data_df, curve), axis=1)"
   ]
  },
  {
   "cell_type": "code",
   "execution_count": null,
   "metadata": {},
   "outputs": [],
   "source": [
    "locations_df"
   ]
  },
  {
   "cell_type": "markdown",
   "metadata": {},
   "source": [
    "Now let's use this dataframe to build a dashboard using the Dash Framework.  Dash let's you build interactive dashboard web apps using only Python - no html or css required.  If you already are using Plotly for viz then it's pretty straightforward to get started.  I'll discuss the components of the visualization below, but I encourage you to go through the [Dash tutorial docs](https://dash.plotly.com/installation) to for more insight in to how these components fit together.  It's well written and contains more than enough info to get started.\n",
    "\n",
    "I'm also using the [`jupyter-dash`](https://github.com/plotly/jupyter-dash) package to render the dashboard right here in the notebook.  This is useful in a tutorial context, but also for testing out small components.  \n",
    "\n",
    "The first thing we do is create the `JupyterDash` object.  Then we describe the layout of the app.  Dash provides Python objects that wrap the various `html` elements that comprise the web interface.  We're going to create a simple UI to start.  In addition to some titles and headings, we use a [multi-value dropdown](https://dash.plotly.com/dash-core-components/dropdown) to indicate which curves are required for the well selection.  We'll also use a [checklist](https://dash.plotly.com/dash-core-components/checklist) to indicate whether to include the testing and training data (or both).  A graph object will display the map.  Finally we include a code text section that will display a list of the names of the selected wells."
   ]
  },
  {
   "cell_type": "code",
   "execution_count": null,
   "metadata": {
    "scrolled": false
   },
   "outputs": [],
   "source": [
    "# use Jupyter Dash to quickly build a prototype of the dash app right in this notebook\n",
    "# for production or more complicated use we'll use the webserver version\n",
    "app = JupyterDash(__name__)\n",
    "\n",
    "app.layout = html.Div([\n",
    "    html.H2(\"FORCE 2020 Well Data Map\"),\n",
    "    html.Label([\n",
    "        \"Selected wells must contain:\",\n",
    "        dcc.Dropdown(\n",
    "            id='curves-dropdown', clearable=False,\n",
    "            options=[\n",
    "                {'label': c, 'value': c}\n",
    "                for c in curves\n",
    "            ],\n",
    "            value=['GR'],\n",
    "            multi=True),\n",
    "        dcc.Checklist(\n",
    "            id='datasets-checkbox',\n",
    "        options=[\n",
    "            {'label': 'Training Data', 'value': 'Train'},\n",
    "            {'label': 'Test Data', 'value': 'Test'}\n",
    "            ],\n",
    "            value=['Train', 'Test']),  \n",
    "        dcc.Graph(id='map-plot'),\n",
    "        \n",
    "        # code-styled text area to display list of filtered well names\n",
    "        html.Code(id='selected-wells-output', style={'whiteSpace': 'pre-line'})\n",
    "    ]),   \n",
    "])"
   ]
  },
  {
   "cell_type": "markdown",
   "metadata": {},
   "source": [
    "Now that we have defined the layout, we need to let Dash know how to render the map plot based on the user input.  This is done by defining a [callback function](https://dash.plotly.com/basic-callbacks), which is called when the specified UI elements are activated.  Callbacks provide the interactivity of the dashboard.\n",
    "\n",
    "A function decorator is used to indicate what UI elements this callback listens to, and what `Graph` element is updated.  The map plot we're making here is the same as the one from the previous notebook.  We just need to filter the dataframe and remove the wells that don't contain the proper curves, and the testing/training data as indicated by the UI."
   ]
  },
  {
   "cell_type": "code",
   "execution_count": null,
   "metadata": {},
   "outputs": [],
   "source": [
    "# Define callback to update graph\n",
    "@app.callback(\n",
    "    Output('map-plot', 'figure'),\n",
    "    [Input(\"curves-dropdown\", \"value\"),\n",
    "     Input('datasets-checkbox', 'value')]\n",
    ")\n",
    "def update_figure(curves, datasets):\n",
    "\n",
    "    curve_mask = locations_df[curves].values.all(axis=1)\n",
    "    dff = locations_df[curve_mask]\n",
    "    \n",
    "    dff = dff[dff['Dataset'].isin(datasets)]\n",
    "    \n",
    "    num_wells = dff.shape[0]\n",
    "    \n",
    "    # if the selection is empty, just display the map centered at the \n",
    "    # same location\n",
    "    if num_wells == 0:\n",
    "        fig = px.scatter_mapbox(lat=[59.610511], lon= [2.772594],\n",
    "                                center={'lat': 59.610511, 'lon': 2.772594},\n",
    "                                zoom=5, height=600,\n",
    "                                )\n",
    "\n",
    "    else:\n",
    "        fig = px.scatter_mapbox(dff, lat=\"lat\", lon=\"lon\",\n",
    "                                center={'lat': 59.610511, 'lon': 2.772594},\n",
    "                                color='Dataset',\n",
    "                                zoom=5, height=600,\n",
    "                                hover_data={'WELL': True,\n",
    "                                            'lat': False,\n",
    "                                            'lon': False,\n",
    "                                            'Dataset': False,\n",
    "                                            'Drilling Operator': True,\n",
    "                                            'Purpose': True,\n",
    "                                            'Completion Year': True,\n",
    "                                            'Formation': True},\n",
    "                                color_discrete_map={'Train': 'blue',\n",
    "                                                    'Test': 'red'}\n",
    "                                )\n",
    "\n",
    "    fig.update_layout(mapbox_style=\"open-street-map\")\n",
    "    fig.update_layout(margin={\"r\":40,\"t\":50,\"l\":40,\"b\":0})\n",
    "\n",
    "    return fig"
   ]
  },
  {
   "cell_type": "markdown",
   "metadata": {},
   "source": [
    "I thought it would be useful to provide a Python style list of the filtered well names.  This text could be copied and pasted directly into a notebook or script to get a subset of wells to train models.  The code below constructs this list based on the curve and test/train UI elements.  It will also respond to selections made using the lasso and square selection tools provided by the Plotly map."
   ]
  },
  {
   "cell_type": "code",
   "execution_count": null,
   "metadata": {},
   "outputs": [],
   "source": [
    "@app.callback(\n",
    "    Output('selected-wells-output', 'children'),\n",
    "    [Input(\"curves-dropdown\", \"value\"),\n",
    "     Input('datasets-checkbox', 'value'),\n",
    "     Input('map-plot', 'selectedData')]\n",
    ")\n",
    "def update_output(curves, datasets, selected_items):\n",
    "    \n",
    "    # return the well names for all wells that match the criterion\n",
    "    curve_mask = locations_df[curves].values.all(axis=1)\n",
    "    dff = locations_df[curve_mask]\n",
    "    dff = dff[dff['Dataset'].isin(datasets)]\n",
    "    # now filter by wells that have been selected in the image.\n",
    "    all_wells = dff['WELL'] # initialize to all of the wells\n",
    "    lasso_wells = None\n",
    "    \n",
    "    # now iterate over selected items, and get the relevant point data\n",
    "    # need to do some checks to make sure valid data selected\n",
    "    if selected_items is not None:\n",
    "        for selected_item in [selected_items]:\n",
    "            if selected_item and selected_item['points']:\n",
    "                # get a list of the selected well names\n",
    "                lasso_wells = [p['customdata'][0] for p in selected_item['points']]\n",
    "   \n",
    "    select_mask = dff['WELL'].isin(lasso_wells if lasso_wells else all_wells)\n",
    "    dff = dff[select_mask]\n",
    "    \n",
    "    num_wells = dff.shape[0]\n",
    "    well_names = dff['WELL'].values\n",
    "\n",
    "    output_text = \"\\nYou have selected {} wells.\\n\\n\".format(num_wells)\n",
    "    well_list_text = \", \".join(\"'{}'\".format(well_name) for well_name in well_names)\n",
    "    well_list_text = \"selected_wells = [\"+well_list_text + \"]\"\n",
    "    return output_text + well_list_text\n",
    "\n"
   ]
  },
  {
   "cell_type": "markdown",
   "metadata": {},
   "source": [
    "That's it!  Now we launch the web app.  JupyterDash lets you do this in a couple different ways.  You can render the app directly in the notebook, or launch a separate browser tab."
   ]
  },
  {
   "cell_type": "code",
   "execution_count": null,
   "metadata": {},
   "outputs": [],
   "source": [
    "# run the line below to render the dashboard right in the notebook\n",
    "# app.run_server(mode='inline')\n",
    "\n",
    "# use this to render in a separate browser tab\n",
    "app.run_server(mode='external')"
   ]
  },
  {
   "cell_type": "markdown",
   "metadata": {},
   "source": [
    "Test out the application, see what you think.  Did you find it useful? Can you think of any features you'd like to add?  Are there any bugs?  Please share your thoughts!  \n",
    "\n",
    "\n",
    "This notebook is open source content. Text is CC-BY-4.0, code is [Apache 2.0](https://www.apache.org/licenses/LICENSE-2.0).\n",
    "\n",
    "### References\n",
    "\n",
    "Bormann P., Aursand P., Dilib F., Dischington P., Manral S. (2020) 2020 FORCE Machine Learning Contest. https://github.com/bolgebrygg/Force-2020-Machine-Learning-competition"
   ]
  }
 ],
 "metadata": {
  "kernelspec": {
   "display_name": "force",
   "language": "python",
   "name": "force"
  },
  "language_info": {
   "codemirror_mode": {
    "name": "ipython",
    "version": 3
   },
   "file_extension": ".py",
   "mimetype": "text/x-python",
   "name": "python",
   "nbconvert_exporter": "python",
   "pygments_lexer": "ipython3",
   "version": "3.6.10"
  }
 },
 "nbformat": 4,
 "nbformat_minor": 2
}
